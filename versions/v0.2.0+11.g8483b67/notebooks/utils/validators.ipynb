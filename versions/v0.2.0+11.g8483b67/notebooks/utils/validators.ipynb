{
 "cells": [
  {
   "cell_type": "markdown",
   "metadata": {},
   "source": [
    "# Validators\n",
    "\n",
    "ObsPlus provides a simple method for declaring and enforcing assumptions about data. You can think of it much like [pytest](https://docs.pytest.org/en/latest/) for data validation (i.e. it is enforced at runtime rather than in a test suite). The implementation is specifically geared towards nested tree structures (like obspy's `Catalog` object), but does work for any type of object. \n",
    "\n",
    "<div class=\"alert alert-warning\">\n",
    "\n",
    "**Warning**: This is a fairly advanced feature of ObsPlus intended primarily for library authors and users with stringent data requirements. The built-in validators will meet most people's needs.  \n",
    "</div>\n",
    "\n",
    "<div class=\"alert alert-warning\">\n",
    "\n",
    "**Warning**: In the future we may move much of this functionality to ObsPy as described in [this proposal](https://github.com/obspy/obspy/issues/2154), but an appropriate deprecation cycle will be implemented.\n",
    "</div>\n"
   ]
  },
  {
   "cell_type": "markdown",
   "metadata": {},
   "source": [
    "## Built-in Validators\n",
    "Obsplus comes with a few built-in validators. See the [catalog validation](catalog_validation.ipynb) page for more details.\n",
    "\n",
    "## Custom Validators\n",
    "The example below creates a custom validator to ensure a group of events have at least four picks and the origins have latitude and longitude defined.  Namespace `\"_silly_test\"` will be used to let obsplus know these validators should be grouped together.  \n"
   ]
  },
  {
   "cell_type": "code",
   "execution_count": 1,
   "metadata": {
    "execution": {
     "iopub.execute_input": "2021-04-23T19:47:13.692172Z",
     "iopub.status.busy": "2021-04-23T19:47:13.691523Z",
     "iopub.status.idle": "2021-04-23T19:47:14.825493Z",
     "shell.execute_reply": "2021-04-23T19:47:14.824874Z"
    }
   },
   "outputs": [],
   "source": [
    "import obsplus\n",
    "import obspy\n",
    "import obspy.core.event as ev\n",
    "from obsplus.utils.validate import validator, validate\n",
    "\n",
    "namespace = '_silly_test'"
   ]
  },
  {
   "cell_type": "code",
   "execution_count": 2,
   "metadata": {
    "execution": {
     "iopub.execute_input": "2021-04-23T19:47:14.830872Z",
     "iopub.status.busy": "2021-04-23T19:47:14.830289Z",
     "iopub.status.idle": "2021-04-23T19:47:14.833510Z",
     "shell.execute_reply": "2021-04-23T19:47:14.833954Z"
    }
   },
   "outputs": [],
   "source": [
    "# We simply have to decorate a callable with the `validator` decorator\n",
    "# and specify the class it is to act on and its namespace\n",
    "@validator(namespace, ev.Event)\n",
    "def ensure_events_have_four_picks(event):\n",
    "    picks = event.picks\n",
    "    assert len(picks) >= 4\n",
    "\n",
    "    \n",
    "@validator(namespace, ev.Origin)\n",
    "def ensure_origin_have_lat_lon(origin):\n",
    "    assert origin.latitude is not None\n",
    "    assert origin.longitude is not None\n",
    "    "
   ]
  },
  {
   "cell_type": "markdown",
   "metadata": {},
   "source": [
    "An event is created that will violate both conditions and run the `validate` function. it should raise an `AssertionError`."
   ]
  },
  {
   "cell_type": "code",
   "execution_count": 3,
   "metadata": {
    "execution": {
     "iopub.execute_input": "2021-04-23T19:47:14.838928Z",
     "iopub.status.busy": "2021-04-23T19:47:14.838346Z",
     "iopub.status.idle": "2021-04-23T19:47:15.070994Z",
     "shell.execute_reply": "2021-04-23T19:47:15.071491Z"
    }
   },
   "outputs": [],
   "source": [
    "cat = obspy.read_events()\n",
    "\n",
    "cat[0].picks = []\n",
    "\n",
    "for origin in cat[0].origins:\n",
    "    origin.latitude = None\n",
    "    origin.longitude = None"
   ]
  },
  {
   "cell_type": "code",
   "execution_count": 4,
   "metadata": {
    "execution": {
     "iopub.execute_input": "2021-04-23T19:47:15.078859Z",
     "iopub.status.busy": "2021-04-23T19:47:15.077218Z",
     "iopub.status.idle": "2021-04-23T19:47:15.081620Z",
     "shell.execute_reply": "2021-04-23T19:47:15.081111Z"
    }
   },
   "outputs": [
    {
     "name": "stdout",
     "output_type": "stream",
     "text": [
      "catalog failed validations\n"
     ]
    }
   ],
   "source": [
    "try:\n",
    "    validate(cat, namespace)\n",
    "except AssertionError:\n",
    "    print('catalog failed validations')"
   ]
  },
  {
   "cell_type": "markdown",
   "metadata": {},
   "source": [
    "A report of failures in the form of a dataframe can be created.  This allows a way to identify problems with the data without haulting the execution of the code."
   ]
  },
  {
   "cell_type": "code",
   "execution_count": 5,
   "metadata": {
    "execution": {
     "iopub.execute_input": "2021-04-23T19:47:15.096042Z",
     "iopub.status.busy": "2021-04-23T19:47:15.095412Z",
     "iopub.status.idle": "2021-04-23T19:47:15.110073Z",
     "shell.execute_reply": "2021-04-23T19:47:15.110553Z"
    }
   },
   "outputs": [
    {
     "data": {
      "text/html": [
       "<div>\n",
       "<style scoped>\n",
       "    .dataframe tbody tr th:only-of-type {\n",
       "        vertical-align: middle;\n",
       "    }\n",
       "\n",
       "    .dataframe tbody tr th {\n",
       "        vertical-align: top;\n",
       "    }\n",
       "\n",
       "    .dataframe thead th {\n",
       "        text-align: right;\n",
       "    }\n",
       "</style>\n",
       "<table border=\"1\" class=\"dataframe\">\n",
       "  <thead>\n",
       "    <tr style=\"text-align: right;\">\n",
       "      <th></th>\n",
       "      <th>validator</th>\n",
       "      <th>object</th>\n",
       "      <th>message</th>\n",
       "      <th>passed</th>\n",
       "    </tr>\n",
       "  </thead>\n",
       "  <tbody>\n",
       "    <tr>\n",
       "      <th>0</th>\n",
       "      <td>ensure_events_have_four_picks</td>\n",
       "      <td>[resource_id, event_type, event_type_certainty...</td>\n",
       "      <td>validator ensure_events_have_four_picks failed...</td>\n",
       "      <td>False</td>\n",
       "    </tr>\n",
       "    <tr>\n",
       "      <th>1</th>\n",
       "      <td>ensure_events_have_four_picks</td>\n",
       "      <td>[resource_id, event_type, event_type_certainty...</td>\n",
       "      <td>validator ensure_events_have_four_picks failed...</td>\n",
       "      <td>False</td>\n",
       "    </tr>\n",
       "    <tr>\n",
       "      <th>2</th>\n",
       "      <td>ensure_events_have_four_picks</td>\n",
       "      <td>[resource_id, event_type, event_type_certainty...</td>\n",
       "      <td>validator ensure_events_have_four_picks failed...</td>\n",
       "      <td>False</td>\n",
       "    </tr>\n",
       "    <tr>\n",
       "      <th>3</th>\n",
       "      <td>ensure_origin_have_lat_lon</td>\n",
       "      <td>[resource_id, time, time_errors, longitude, lo...</td>\n",
       "      <td>validator ensure_origin_have_lat_lon failed ob...</td>\n",
       "      <td>False</td>\n",
       "    </tr>\n",
       "    <tr>\n",
       "      <th>4</th>\n",
       "      <td>ensure_origin_have_lat_lon</td>\n",
       "      <td>[resource_id, time, time_errors, longitude, lo...</td>\n",
       "      <td></td>\n",
       "      <td>True</td>\n",
       "    </tr>\n",
       "    <tr>\n",
       "      <th>5</th>\n",
       "      <td>ensure_origin_have_lat_lon</td>\n",
       "      <td>[resource_id, time, time_errors, longitude, lo...</td>\n",
       "      <td></td>\n",
       "      <td>True</td>\n",
       "    </tr>\n",
       "  </tbody>\n",
       "</table>\n",
       "</div>"
      ],
      "text/plain": [
       "                       validator  \\\n",
       "0  ensure_events_have_four_picks   \n",
       "1  ensure_events_have_four_picks   \n",
       "2  ensure_events_have_four_picks   \n",
       "3     ensure_origin_have_lat_lon   \n",
       "4     ensure_origin_have_lat_lon   \n",
       "5     ensure_origin_have_lat_lon   \n",
       "\n",
       "                                              object  \\\n",
       "0  [resource_id, event_type, event_type_certainty...   \n",
       "1  [resource_id, event_type, event_type_certainty...   \n",
       "2  [resource_id, event_type, event_type_certainty...   \n",
       "3  [resource_id, time, time_errors, longitude, lo...   \n",
       "4  [resource_id, time, time_errors, longitude, lo...   \n",
       "5  [resource_id, time, time_errors, longitude, lo...   \n",
       "\n",
       "                                             message  passed  \n",
       "0  validator ensure_events_have_four_picks failed...   False  \n",
       "1  validator ensure_events_have_four_picks failed...   False  \n",
       "2  validator ensure_events_have_four_picks failed...   False  \n",
       "3  validator ensure_origin_have_lat_lon failed ob...   False  \n",
       "4                                                       True  \n",
       "5                                                       True  "
      ]
     },
     "execution_count": 1,
     "metadata": {},
     "output_type": "execute_result"
    }
   ],
   "source": [
    "report = validate(cat, namespace, report=True)\n",
    "report"
   ]
  },
  {
   "cell_type": "markdown",
   "metadata": {},
   "source": [
    "Notice how the `object` column is a reference to the python object which the validator ran on. This makes it very quick to find (and fix) problematic data."
   ]
  },
  {
   "cell_type": "markdown",
   "metadata": {},
   "source": [
    "### Validators with optional arguments\n",
    "Validators that take optional arguments (in the form of key word arguments) can also be created. The `validate` function then knows how to distribute these values to the appropriate validators."
   ]
  },
  {
   "cell_type": "code",
   "execution_count": 6,
   "metadata": {
    "execution": {
     "iopub.execute_input": "2021-04-23T19:47:15.115197Z",
     "iopub.status.busy": "2021-04-23T19:47:15.114578Z",
     "iopub.status.idle": "2021-04-23T19:47:15.118262Z",
     "shell.execute_reply": "2021-04-23T19:47:15.117649Z"
    }
   },
   "outputs": [],
   "source": [
    "@validator(namespace, ev.Origin)\n",
    "def ensure_lat_greater_than(origin, min_lat=None):\n",
    "    if min_lat is not None:\n",
    "        print(f\"min latitude is {min_lat}\")\n",
    "        assert origin.latitude is None or origin.latitude > min_lat"
   ]
  },
  {
   "cell_type": "code",
   "execution_count": 7,
   "metadata": {
    "execution": {
     "iopub.execute_input": "2021-04-23T19:47:15.128471Z",
     "iopub.status.busy": "2021-04-23T19:47:15.126995Z",
     "iopub.status.idle": "2021-04-23T19:47:15.130343Z",
     "shell.execute_reply": "2021-04-23T19:47:15.129835Z"
    }
   },
   "outputs": [
    {
     "name": "stdout",
     "output_type": "stream",
     "text": [
      "min latitude is 39\n",
      "min latitude is 39\n",
      "min latitude is 39\n"
     ]
    }
   ],
   "source": [
    "_ = validate(cat, namespace, min_lat=39, report=True)"
   ]
  }
 ],
 "metadata": {
  "kernelspec": {
   "display_name": "Python 3",
   "language": "python",
   "name": "python3"
  },
  "language_info": {
   "codemirror_mode": {
    "name": "ipython",
    "version": 3
   },
   "file_extension": ".py",
   "mimetype": "text/x-python",
   "name": "python",
   "nbconvert_exporter": "python",
   "pygments_lexer": "ipython3",
   "version": "3.7.10"
  }
 },
 "nbformat": 4,
 "nbformat_minor": 4
}
